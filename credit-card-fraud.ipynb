{
 "cells": [
  {
   "cell_type": "markdown",
   "id": "f0798c47",
   "metadata": {},
   "source": [
    "# Introduction\n",
    "The dataset included in this project contains information about credit card transactions and their labels as either legitimate or fraudulent transactions. As the vast majority of transactions carried out are legitimate, this is a highly imbalanced dataset. Using different techniques such as undersampling, oversampling, and SMOTE, we will attempt to balance the data and train machine learning models to correctly predict whether a transaction is fraudulent or not.\n",
    "\n",
    "## Dataset Contents\n",
    "The dataset contains transactions made by credit cards in September 2013 by European cardholders over a period of two days. \n",
    "\n",
    "\n",
    "## Importing the Necessary Libraries\n",
    "Here we'll begin by importing some of the libraries we'll use in the project.\n"
   ]
  },
  {
   "cell_type": "code",
   "execution_count": 43,
   "id": "e26426ff",
   "metadata": {},
   "outputs": [],
   "source": [
    "## libraries for loading and exploring data\n",
    "import pandas as pd\n",
    "import numpy as np\n",
    "import seaborn as sns\n",
    "import matplotlib.pyplot as plt\n",
    "\n",
    "## splitting and balancing data\n",
    "from sklearn.model_selection import train_test_split\n",
    "from imblearn.under_sampling import RandomUnderSampler\n",
    "from imblearn.over_sampling import RandomOverSampler\n",
    "from imblearn.over_sampling import SMOTE\n",
    "\n",
    "## ML models\n",
    "from sklearn.linear_model import LogisticRegression\n",
    "from sklearn.tree import DecisionTreeClassifier\n",
    "from sklearn.neighbors import KNeighborsClassifier\n",
    "from sklearn.ensemble import RandomForestClassifier\n",
    "from sklearn.svm import SVC\n",
    "\n",
    "## metrics for evaluating models\n",
    "from sklearn.metrics import accuracy_score\n",
    "from sklearn.metrics import roc_auc_score, roc_curve\n",
    "from sklearn.metrics import average_precision_score, precision_recall_curve, auc\n",
    "\n",
    "## misc\n",
    "from collections import Counter"
   ]
  },
  {
   "cell_type": "markdown",
   "id": "c5cfdf69",
   "metadata": {},
   "source": [
    "## Loading the Data\n",
    "Next, we'll load the data, found in `creditcard.csv` and print the first few rows to see what we're working with."
   ]
  },
  {
   "cell_type": "code",
   "execution_count": 2,
   "id": "24e899ce",
   "metadata": {},
   "outputs": [
    {
     "data": {
      "text/html": [
       "<div>\n",
       "<style scoped>\n",
       "    .dataframe tbody tr th:only-of-type {\n",
       "        vertical-align: middle;\n",
       "    }\n",
       "\n",
       "    .dataframe tbody tr th {\n",
       "        vertical-align: top;\n",
       "    }\n",
       "\n",
       "    .dataframe thead th {\n",
       "        text-align: right;\n",
       "    }\n",
       "</style>\n",
       "<table border=\"1\" class=\"dataframe\">\n",
       "  <thead>\n",
       "    <tr style=\"text-align: right;\">\n",
       "      <th></th>\n",
       "      <th>Time</th>\n",
       "      <th>V1</th>\n",
       "      <th>V2</th>\n",
       "      <th>V3</th>\n",
       "      <th>V4</th>\n",
       "      <th>V5</th>\n",
       "      <th>V6</th>\n",
       "      <th>V7</th>\n",
       "      <th>V8</th>\n",
       "      <th>V9</th>\n",
       "      <th>...</th>\n",
       "      <th>V21</th>\n",
       "      <th>V22</th>\n",
       "      <th>V23</th>\n",
       "      <th>V24</th>\n",
       "      <th>V25</th>\n",
       "      <th>V26</th>\n",
       "      <th>V27</th>\n",
       "      <th>V28</th>\n",
       "      <th>Amount</th>\n",
       "      <th>Class</th>\n",
       "    </tr>\n",
       "  </thead>\n",
       "  <tbody>\n",
       "    <tr>\n",
       "      <th>0</th>\n",
       "      <td>0.0</td>\n",
       "      <td>-1.359807</td>\n",
       "      <td>-0.072781</td>\n",
       "      <td>2.536347</td>\n",
       "      <td>1.378155</td>\n",
       "      <td>-0.338321</td>\n",
       "      <td>0.462388</td>\n",
       "      <td>0.239599</td>\n",
       "      <td>0.098698</td>\n",
       "      <td>0.363787</td>\n",
       "      <td>...</td>\n",
       "      <td>-0.018307</td>\n",
       "      <td>0.277838</td>\n",
       "      <td>-0.110474</td>\n",
       "      <td>0.066928</td>\n",
       "      <td>0.128539</td>\n",
       "      <td>-0.189115</td>\n",
       "      <td>0.133558</td>\n",
       "      <td>-0.021053</td>\n",
       "      <td>149.62</td>\n",
       "      <td>0</td>\n",
       "    </tr>\n",
       "    <tr>\n",
       "      <th>1</th>\n",
       "      <td>0.0</td>\n",
       "      <td>1.191857</td>\n",
       "      <td>0.266151</td>\n",
       "      <td>0.166480</td>\n",
       "      <td>0.448154</td>\n",
       "      <td>0.060018</td>\n",
       "      <td>-0.082361</td>\n",
       "      <td>-0.078803</td>\n",
       "      <td>0.085102</td>\n",
       "      <td>-0.255425</td>\n",
       "      <td>...</td>\n",
       "      <td>-0.225775</td>\n",
       "      <td>-0.638672</td>\n",
       "      <td>0.101288</td>\n",
       "      <td>-0.339846</td>\n",
       "      <td>0.167170</td>\n",
       "      <td>0.125895</td>\n",
       "      <td>-0.008983</td>\n",
       "      <td>0.014724</td>\n",
       "      <td>2.69</td>\n",
       "      <td>0</td>\n",
       "    </tr>\n",
       "    <tr>\n",
       "      <th>2</th>\n",
       "      <td>1.0</td>\n",
       "      <td>-1.358354</td>\n",
       "      <td>-1.340163</td>\n",
       "      <td>1.773209</td>\n",
       "      <td>0.379780</td>\n",
       "      <td>-0.503198</td>\n",
       "      <td>1.800499</td>\n",
       "      <td>0.791461</td>\n",
       "      <td>0.247676</td>\n",
       "      <td>-1.514654</td>\n",
       "      <td>...</td>\n",
       "      <td>0.247998</td>\n",
       "      <td>0.771679</td>\n",
       "      <td>0.909412</td>\n",
       "      <td>-0.689281</td>\n",
       "      <td>-0.327642</td>\n",
       "      <td>-0.139097</td>\n",
       "      <td>-0.055353</td>\n",
       "      <td>-0.059752</td>\n",
       "      <td>378.66</td>\n",
       "      <td>0</td>\n",
       "    </tr>\n",
       "    <tr>\n",
       "      <th>3</th>\n",
       "      <td>1.0</td>\n",
       "      <td>-0.966272</td>\n",
       "      <td>-0.185226</td>\n",
       "      <td>1.792993</td>\n",
       "      <td>-0.863291</td>\n",
       "      <td>-0.010309</td>\n",
       "      <td>1.247203</td>\n",
       "      <td>0.237609</td>\n",
       "      <td>0.377436</td>\n",
       "      <td>-1.387024</td>\n",
       "      <td>...</td>\n",
       "      <td>-0.108300</td>\n",
       "      <td>0.005274</td>\n",
       "      <td>-0.190321</td>\n",
       "      <td>-1.175575</td>\n",
       "      <td>0.647376</td>\n",
       "      <td>-0.221929</td>\n",
       "      <td>0.062723</td>\n",
       "      <td>0.061458</td>\n",
       "      <td>123.50</td>\n",
       "      <td>0</td>\n",
       "    </tr>\n",
       "    <tr>\n",
       "      <th>4</th>\n",
       "      <td>2.0</td>\n",
       "      <td>-1.158233</td>\n",
       "      <td>0.877737</td>\n",
       "      <td>1.548718</td>\n",
       "      <td>0.403034</td>\n",
       "      <td>-0.407193</td>\n",
       "      <td>0.095921</td>\n",
       "      <td>0.592941</td>\n",
       "      <td>-0.270533</td>\n",
       "      <td>0.817739</td>\n",
       "      <td>...</td>\n",
       "      <td>-0.009431</td>\n",
       "      <td>0.798278</td>\n",
       "      <td>-0.137458</td>\n",
       "      <td>0.141267</td>\n",
       "      <td>-0.206010</td>\n",
       "      <td>0.502292</td>\n",
       "      <td>0.219422</td>\n",
       "      <td>0.215153</td>\n",
       "      <td>69.99</td>\n",
       "      <td>0</td>\n",
       "    </tr>\n",
       "  </tbody>\n",
       "</table>\n",
       "<p>5 rows × 31 columns</p>\n",
       "</div>"
      ],
      "text/plain": [
       "   Time        V1        V2        V3        V4        V5        V6        V7  \\\n",
       "0   0.0 -1.359807 -0.072781  2.536347  1.378155 -0.338321  0.462388  0.239599   \n",
       "1   0.0  1.191857  0.266151  0.166480  0.448154  0.060018 -0.082361 -0.078803   \n",
       "2   1.0 -1.358354 -1.340163  1.773209  0.379780 -0.503198  1.800499  0.791461   \n",
       "3   1.0 -0.966272 -0.185226  1.792993 -0.863291 -0.010309  1.247203  0.237609   \n",
       "4   2.0 -1.158233  0.877737  1.548718  0.403034 -0.407193  0.095921  0.592941   \n",
       "\n",
       "         V8        V9  ...       V21       V22       V23       V24       V25  \\\n",
       "0  0.098698  0.363787  ... -0.018307  0.277838 -0.110474  0.066928  0.128539   \n",
       "1  0.085102 -0.255425  ... -0.225775 -0.638672  0.101288 -0.339846  0.167170   \n",
       "2  0.247676 -1.514654  ...  0.247998  0.771679  0.909412 -0.689281 -0.327642   \n",
       "3  0.377436 -1.387024  ... -0.108300  0.005274 -0.190321 -1.175575  0.647376   \n",
       "4 -0.270533  0.817739  ... -0.009431  0.798278 -0.137458  0.141267 -0.206010   \n",
       "\n",
       "        V26       V27       V28  Amount  Class  \n",
       "0 -0.189115  0.133558 -0.021053  149.62      0  \n",
       "1  0.125895 -0.008983  0.014724    2.69      0  \n",
       "2 -0.139097 -0.055353 -0.059752  378.66      0  \n",
       "3 -0.221929  0.062723  0.061458  123.50      0  \n",
       "4  0.502292  0.219422  0.215153   69.99      0  \n",
       "\n",
       "[5 rows x 31 columns]"
      ]
     },
     "execution_count": 2,
     "metadata": {},
     "output_type": "execute_result"
    }
   ],
   "source": [
    "df = pd.read_csv(\"creditcard.csv\")\n",
    "df.head()"
   ]
  },
  {
   "cell_type": "markdown",
   "id": "2130a096",
   "metadata": {},
   "source": [
    "## Exploring the Data\n",
    "Initial exploration of the data shows a few things. We have 31 columns:\n",
    "- Time (in seconds, elapsed since first transaction in dataset)\n",
    "- V1-V28 Primary components which have been transformed into numerical data. For reasons of confidentiality, the true labels of these features are unknown.\n",
    "- Amount (how much was spent in that transaction)\n",
    "- Class (0 for legitimate transaction, 1 for fraudulent. From this point on, 0 will be referred to as **legitimate** and 1 as **fraudulent**) "
   ]
  },
  {
   "cell_type": "markdown",
   "id": "3ae4a1fc",
   "metadata": {},
   "source": [
    "## Transforming the Data\n",
    "Most of the data has already been transformed. The only columns that haven't are: `Time`, `Amount` and `Class`. We won't be using time, and class is simply a binary classification of legitimate or fraudulent activity. \n",
    "\n",
    "If we want to use `Amount` in our training models, we will need to standardize it so that its values are similar to those in our already transformed data contained within columns V1-V28.\n",
    "\n",
    "**Note: This process can take a few minutes given the large amount of observations.**"
   ]
  },
  {
   "cell_type": "code",
   "execution_count": 45,
   "id": "fef3eec4",
   "metadata": {},
   "outputs": [
    {
     "data": {
      "text/html": [
       "<div>\n",
       "<style scoped>\n",
       "    .dataframe tbody tr th:only-of-type {\n",
       "        vertical-align: middle;\n",
       "    }\n",
       "\n",
       "    .dataframe tbody tr th {\n",
       "        vertical-align: top;\n",
       "    }\n",
       "\n",
       "    .dataframe thead th {\n",
       "        text-align: right;\n",
       "    }\n",
       "</style>\n",
       "<table border=\"1\" class=\"dataframe\">\n",
       "  <thead>\n",
       "    <tr style=\"text-align: right;\">\n",
       "      <th></th>\n",
       "      <th>Time</th>\n",
       "      <th>V1</th>\n",
       "      <th>V2</th>\n",
       "      <th>V3</th>\n",
       "      <th>V4</th>\n",
       "      <th>V5</th>\n",
       "      <th>V6</th>\n",
       "      <th>V7</th>\n",
       "      <th>V8</th>\n",
       "      <th>V9</th>\n",
       "      <th>...</th>\n",
       "      <th>V21</th>\n",
       "      <th>V22</th>\n",
       "      <th>V23</th>\n",
       "      <th>V24</th>\n",
       "      <th>V25</th>\n",
       "      <th>V26</th>\n",
       "      <th>V27</th>\n",
       "      <th>V28</th>\n",
       "      <th>Amount</th>\n",
       "      <th>Class</th>\n",
       "    </tr>\n",
       "  </thead>\n",
       "  <tbody>\n",
       "    <tr>\n",
       "      <th>0</th>\n",
       "      <td>0.0</td>\n",
       "      <td>-1.359807</td>\n",
       "      <td>-0.072781</td>\n",
       "      <td>2.536347</td>\n",
       "      <td>1.378155</td>\n",
       "      <td>-0.338321</td>\n",
       "      <td>0.462388</td>\n",
       "      <td>0.239599</td>\n",
       "      <td>0.098698</td>\n",
       "      <td>0.363787</td>\n",
       "      <td>...</td>\n",
       "      <td>-0.018307</td>\n",
       "      <td>0.277838</td>\n",
       "      <td>-0.110474</td>\n",
       "      <td>0.066928</td>\n",
       "      <td>0.128539</td>\n",
       "      <td>-0.189115</td>\n",
       "      <td>0.133558</td>\n",
       "      <td>-0.021053</td>\n",
       "      <td>0.244964</td>\n",
       "      <td>0</td>\n",
       "    </tr>\n",
       "    <tr>\n",
       "      <th>1</th>\n",
       "      <td>0.0</td>\n",
       "      <td>1.191857</td>\n",
       "      <td>0.266151</td>\n",
       "      <td>0.166480</td>\n",
       "      <td>0.448154</td>\n",
       "      <td>0.060018</td>\n",
       "      <td>-0.082361</td>\n",
       "      <td>-0.078803</td>\n",
       "      <td>0.085102</td>\n",
       "      <td>-0.255425</td>\n",
       "      <td>...</td>\n",
       "      <td>-0.225775</td>\n",
       "      <td>-0.638672</td>\n",
       "      <td>0.101288</td>\n",
       "      <td>-0.339846</td>\n",
       "      <td>0.167170</td>\n",
       "      <td>0.125895</td>\n",
       "      <td>-0.008983</td>\n",
       "      <td>0.014724</td>\n",
       "      <td>-0.342474</td>\n",
       "      <td>0</td>\n",
       "    </tr>\n",
       "    <tr>\n",
       "      <th>2</th>\n",
       "      <td>1.0</td>\n",
       "      <td>-1.358354</td>\n",
       "      <td>-1.340163</td>\n",
       "      <td>1.773209</td>\n",
       "      <td>0.379780</td>\n",
       "      <td>-0.503198</td>\n",
       "      <td>1.800499</td>\n",
       "      <td>0.791461</td>\n",
       "      <td>0.247676</td>\n",
       "      <td>-1.514654</td>\n",
       "      <td>...</td>\n",
       "      <td>0.247998</td>\n",
       "      <td>0.771679</td>\n",
       "      <td>0.909412</td>\n",
       "      <td>-0.689281</td>\n",
       "      <td>-0.327642</td>\n",
       "      <td>-0.139097</td>\n",
       "      <td>-0.055353</td>\n",
       "      <td>-0.059752</td>\n",
       "      <td>1.160684</td>\n",
       "      <td>0</td>\n",
       "    </tr>\n",
       "    <tr>\n",
       "      <th>3</th>\n",
       "      <td>1.0</td>\n",
       "      <td>-0.966272</td>\n",
       "      <td>-0.185226</td>\n",
       "      <td>1.792993</td>\n",
       "      <td>-0.863291</td>\n",
       "      <td>-0.010309</td>\n",
       "      <td>1.247203</td>\n",
       "      <td>0.237609</td>\n",
       "      <td>0.377436</td>\n",
       "      <td>-1.387024</td>\n",
       "      <td>...</td>\n",
       "      <td>-0.108300</td>\n",
       "      <td>0.005274</td>\n",
       "      <td>-0.190321</td>\n",
       "      <td>-1.175575</td>\n",
       "      <td>0.647376</td>\n",
       "      <td>-0.221929</td>\n",
       "      <td>0.062723</td>\n",
       "      <td>0.061458</td>\n",
       "      <td>0.140534</td>\n",
       "      <td>0</td>\n",
       "    </tr>\n",
       "    <tr>\n",
       "      <th>4</th>\n",
       "      <td>2.0</td>\n",
       "      <td>-1.158233</td>\n",
       "      <td>0.877737</td>\n",
       "      <td>1.548718</td>\n",
       "      <td>0.403034</td>\n",
       "      <td>-0.407193</td>\n",
       "      <td>0.095921</td>\n",
       "      <td>0.592941</td>\n",
       "      <td>-0.270533</td>\n",
       "      <td>0.817739</td>\n",
       "      <td>...</td>\n",
       "      <td>-0.009431</td>\n",
       "      <td>0.798278</td>\n",
       "      <td>-0.137458</td>\n",
       "      <td>0.141267</td>\n",
       "      <td>-0.206010</td>\n",
       "      <td>0.502292</td>\n",
       "      <td>0.219422</td>\n",
       "      <td>0.215153</td>\n",
       "      <td>-0.073403</td>\n",
       "      <td>0</td>\n",
       "    </tr>\n",
       "  </tbody>\n",
       "</table>\n",
       "<p>5 rows × 31 columns</p>\n",
       "</div>"
      ],
      "text/plain": [
       "   Time        V1        V2        V3        V4        V5        V6        V7  \\\n",
       "0   0.0 -1.359807 -0.072781  2.536347  1.378155 -0.338321  0.462388  0.239599   \n",
       "1   0.0  1.191857  0.266151  0.166480  0.448154  0.060018 -0.082361 -0.078803   \n",
       "2   1.0 -1.358354 -1.340163  1.773209  0.379780 -0.503198  1.800499  0.791461   \n",
       "3   1.0 -0.966272 -0.185226  1.792993 -0.863291 -0.010309  1.247203  0.237609   \n",
       "4   2.0 -1.158233  0.877737  1.548718  0.403034 -0.407193  0.095921  0.592941   \n",
       "\n",
       "         V8        V9  ...       V21       V22       V23       V24       V25  \\\n",
       "0  0.098698  0.363787  ... -0.018307  0.277838 -0.110474  0.066928  0.128539   \n",
       "1  0.085102 -0.255425  ... -0.225775 -0.638672  0.101288 -0.339846  0.167170   \n",
       "2  0.247676 -1.514654  ...  0.247998  0.771679  0.909412 -0.689281 -0.327642   \n",
       "3  0.377436 -1.387024  ... -0.108300  0.005274 -0.190321 -1.175575  0.647376   \n",
       "4 -0.270533  0.817739  ... -0.009431  0.798278 -0.137458  0.141267 -0.206010   \n",
       "\n",
       "        V26       V27       V28    Amount  Class  \n",
       "0 -0.189115  0.133558 -0.021053  0.244964      0  \n",
       "1  0.125895 -0.008983  0.014724 -0.342474      0  \n",
       "2 -0.139097 -0.055353 -0.059752  1.160684      0  \n",
       "3 -0.221929  0.062723  0.061458  0.140534      0  \n",
       "4  0.502292  0.219422  0.215153 -0.073403      0  \n",
       "\n",
       "[5 rows x 31 columns]"
      ]
     },
     "execution_count": 45,
     "metadata": {},
     "output_type": "execute_result"
    }
   ],
   "source": [
    "df['Amount'] = df['Amount'].apply(lambda x: (x - df['Amount'].mean()) / (df['Amount'].std()))\n",
    "df.head()"
   ]
  },
  {
   "cell_type": "markdown",
   "id": "36b64692",
   "metadata": {},
   "source": [
    "\n",
    "## Visualizing the Data\n",
    "As previously mentioned, this is a highly imbalanced dataset. The amount of legitimate transactions are significantly higher than those of fraudulent charges. "
   ]
  },
  {
   "cell_type": "code",
   "execution_count": 3,
   "id": "79ff00b6",
   "metadata": {},
   "outputs": [
    {
     "data": {
      "image/png": "[encoded data removed]",
      "text/plain": [
       "<Figure size 864x576 with 1 Axes>"
      ]
     },
     "metadata": {
      "needs_background": "light"
     },
     "output_type": "display_data"
    }
   ],
   "source": [
    "plt.figure(figsize=(12,8))\n",
    "ax = plt.subplot()\n",
    "sns.countplot(x='Class', data=df)\n",
    "ax.set_xticklabels(['Legitimate', 'Fraudulent'])\n",
    "plt.ylabel(\"Count\")\n",
    "plt.title(\"Legitimate vs Fraudulent Charges\")\n",
    "plt.show()"
   ]
  },
  {
   "cell_type": "code",
   "execution_count": 4,
   "id": "51372594",
   "metadata": {},
   "outputs": [
    {
     "data": {
      "text/plain": [
       "0    0.998273\n",
       "1    0.001727\n",
       "Name: Class, dtype: float64"
      ]
     },
     "execution_count": 4,
     "metadata": {},
     "output_type": "execute_result"
    }
   ],
   "source": [
    "df['Class'].value_counts(normalize=True)"
   ]
  },
  {
   "cell_type": "markdown",
   "id": "5ed61e6f",
   "metadata": {},
   "source": [
    "The fraudulent class is barely visible on our graph, and it's clear why if we see the normalized value counts for this dataset. Legitimate charges compose 99.82% of the data in this dataset, while fraudulent charges make up only 0.17% of this dataset."
   ]
  },
  {
   "cell_type": "markdown",
   "id": "6706e88e",
   "metadata": {},
   "source": [
    "## Imbalanced Data\n",
    "### Potential Problems\n",
    "Up to this point, it's been made clear that this dataset is imbalanced, but what exactly does that mean and how does it affect a machine learning model? Let's train a model without altering the data in any way to see what happens. Let's split our data into a training set and testing set as it is, then train a Logistic Regression model on it.\n",
    "\n",
    "### Splitting the Data"
   ]
  },
  {
   "cell_type": "code",
   "execution_count": 46,
   "id": "b59e8851",
   "metadata": {},
   "outputs": [],
   "source": [
    "X, y = df.iloc[:, 1:-1].values, df.iloc[:, -1:].values\n",
    "X_train, X_test, y_train, y_test = train_test_split(X, y, random_state=100)"
   ]
  },
  {
   "cell_type": "markdown",
   "id": "2afb0e78",
   "metadata": {},
   "source": [
    "### Logistic Regression"
   ]
  },
  {
   "cell_type": "code",
   "execution_count": 47,
   "id": "cf4bb335",
   "metadata": {},
   "outputs": [
    {
     "name": "stdout",
     "output_type": "stream",
     "text": [
      "0.9990309260975815\n"
     ]
    }
   ],
   "source": [
    "lr_imb = LogisticRegression()\n",
    "lr_imb.fit(X_train, np.ravel(y_train))\n",
    "lr_imb_predict = lr_imb.predict(X_test)\n",
    "print(accuracy_score(y_test, lr_imb_predict))"
   ]
  },
  {
   "cell_type": "markdown",
   "id": "297d5b84",
   "metadata": {},
   "source": [
    "Amazing! This model has 99.9% accuracy!\n",
    "\n",
    "Machine learning models are commonly scored by measuring accuracy.\n",
    "\n",
    "<img src=\"accuracy.png\" width=\"500\" height=\"56\" />\n",
    "\n",
    "The problem with this method is that it overvalues correct predictions when the dataset is imbalanced. Consider assigning this same task to a person. After seeing maybe a hundred rows with no fraudulent charges, they may decide that the smart way to classify data is to simply guess \"legitimate\" every single time. At the end of the day, they may be wrong once or twice, but they'll be correct 99% of the time."
   ]
  },
  {
   "cell_type": "markdown",
   "id": "03a03088",
   "metadata": {},
   "source": [
    "## Potential Solutions\n",
    "The solution to this is to either balance the data somehow or more heavily penalize the ML model when it fails to detect a fraudulent case. In other words, find a way to give equal weight to both classifications, so the model will not be incentivized to simply guess one class over and over. We can also evaluate our ML models using different metrics, such as precision, recall, and F1-score.\n",
    "\n",
    "## Measuring Models Trained on Imbalanced Data\n",
    "\n",
    "### Measuring Using Precision-Recall Curve\n",
    "As mentioned previously, we can either balance the data in some way, or we can try to measure our model on a different metric. One way to measure accuracy when data is imbalanced is to calculate the **Area Under Precision-Recall Curve(AUPRC)**. The `auc()` function will let us calculate the area under the curve, while `precision_recall_curve()` will let us create the curve based on our predictions. \n",
    "\n",
    "Assuming the model scores highly using precision and recall, even though our data is imbalanced, we could say that it's accurate at predicting fraud."
   ]
  },
  {
   "cell_type": "markdown",
   "id": "497b07d3",
   "metadata": {},
   "source": [
    "### Prediction Probability\n",
    "It won't be enough to have an array with the model's predictions in order to create the curve. We'll need the actual probability that each prediction returned."
   ]
  },
  {
   "cell_type": "code",
   "execution_count": 48,
   "id": "0f67deff",
   "metadata": {},
   "outputs": [],
   "source": [
    "lr_imb_probs = lr_imb.predict_proba(X_test)[:, 1]\n",
    "lr_imb_prec, lr_imb_recall, lr_imb_threshold = precision_recall_curve(y_test, lr_imb_probs)"
   ]
  },
  {
   "cell_type": "markdown",
   "id": "47a80e03",
   "metadata": {},
   "source": [
    "### Plotting Precision-Recall Curve"
   ]
  },
  {
   "cell_type": "code",
   "execution_count": 49,
   "id": "9b759645",
   "metadata": {},
   "outputs": [
    {
     "data": {
      "image/png": "[encoded data removed]",
      "text/plain": [
       "<Figure size 864x576 with 1 Axes>"
      ]
     },
     "metadata": {
      "needs_background": "light"
     },
     "output_type": "display_data"
    },
    {
     "name": "stdout",
     "output_type": "stream",
     "text": [
      "0.6667049835483573\n"
     ]
    }
   ],
   "source": [
    "plt.figure(figsize=(12,8))\n",
    "plt.plot(lr_imb_recall, lr_imb_prec)\n",
    "plt.xlabel(\"Recall\")\n",
    "plt.ylabel(\"Precision\")\n",
    "plt.title(\"Precision-Recall Curve for Logistic Regression Model\")\n",
    "plt.show()\n",
    "print(auc(lr_imb_recall, lr_imb_prec))"
   ]
  },
  {
   "cell_type": "markdown",
   "id": "16b171c3",
   "metadata": {},
   "source": [
    "### Analysis Using AUPRC (Area Under Precision-Recall Curve)\n",
    "Unfortunately, the area under the curve was 0.66, which is not very good. The model, while better than a random classifier, makes enough mistakes that it shouldn't be trusted to predict fraud accurately. "
   ]
  },
  {
   "cell_type": "markdown",
   "id": "52281e15",
   "metadata": {},
   "source": [
    "## Undersampled Data"
   ]
  },
  {
   "cell_type": "markdown",
   "id": "379d5f03",
   "metadata": {},
   "source": [
    "### Random Undersampling\n",
    "Undersampling allows us to set the majority class equal to the minority class. That means if we have 400 rows that represent fraudulent data, instead of training our model on 20,000+ rows of legitimate transactions and only 400 rows of fraudulent transactions as we did above, we'll undersample our legitimate class to just include 400 rows.\n",
    "\n",
    "In our particular example, we're using `RandomUnderSampler` to do this. Random undersampling chooses observations from the majority class to be removed at random. Both our classes will now have 492 rows of data that we'll train our ML model on."
   ]
  },
  {
   "cell_type": "code",
   "execution_count": 50,
   "id": "ea27b2d6",
   "metadata": {},
   "outputs": [
    {
     "data": {
      "image/png": "[encoded data removed]",
      "text/plain": [
       "<Figure size 720x576 with 1 Axes>"
      ]
     },
     "metadata": {
      "needs_background": "light"
     },
     "output_type": "display_data"
    },
    {
     "name": "stdout",
     "output_type": "stream",
     "text": [
      "Counter({0: 492, 1: 492})\n"
     ]
    }
   ],
   "source": [
    "rus = RandomUnderSampler(random_state=1, replacement=True)\n",
    "X_rus, y_rus = rus.fit_resample(X,y)\n",
    "rus_data = Counter(y_rus)\n",
    "plt.figure(figsize=(10,8))\n",
    "ax = plt.subplot()\n",
    "plt.bar(rus_data.keys(), rus_data.values(), color=['blue', 'red'])\n",
    "ax.set_xticks([0, 1])\n",
    "ax.set_xticklabels(['Legitimate', 'Fraudulent'])\n",
    "plt.show()\n",
    "print(rus_data)"
   ]
  },
  {
   "cell_type": "markdown",
   "id": "84dcdbf3",
   "metadata": {},
   "source": [
    "### Potential Problems\n",
    "This may seem like a great solution on paper, and it will create a model that will make more accurate predictions. The problem with this approach is that we're missing out on a significant amount of data. Remember that \"fraudulent\" cases represented 0.17% of our dataset. By pruning legitimate classifications down to this size, we are essentially depriving our models of 99% of our total data. So much of that data could be useful for making predictions!"
   ]
  },
  {
   "cell_type": "markdown",
   "id": "bd0bc9da",
   "metadata": {},
   "source": [
    "### Training on Undersampled Data\n",
    "Our next step will be to split the data once again and train some ML models, then evaluate them. \n",
    "\n",
    "### Splitting the Data"
   ]
  },
  {
   "cell_type": "code",
   "execution_count": 51,
   "id": "87522f18",
   "metadata": {},
   "outputs": [],
   "source": [
    "X_train, X_test, y_train, y_test = train_test_split(X_rus, y_rus, random_state=1)"
   ]
  },
  {
   "cell_type": "markdown",
   "id": "f5ba178b",
   "metadata": {},
   "source": [
    "### Logistic Regression"
   ]
  },
  {
   "cell_type": "code",
   "execution_count": 52,
   "id": "ee027bb3",
   "metadata": {},
   "outputs": [],
   "source": [
    "lr_rus = LogisticRegression()\n",
    "lr_rus.fit(X_train, np.ravel(y_train))\n",
    "lr_rus_predictions = lr_rus.predict(X_test)\n",
    "lr_rus_predict_probs = lr_rus.predict_proba(X_test)[:, 1]\n",
    "lr_FP_rate, lr_TP_rate, lr_threshold = roc_curve(y_test, lr_rus_predict_probs)"
   ]
  },
  {
   "cell_type": "markdown",
   "id": "e8fb0019",
   "metadata": {},
   "source": [
    "### Decision Tree Classifier"
   ]
  },
  {
   "cell_type": "code",
   "execution_count": 53,
   "id": "fe8d1414",
   "metadata": {},
   "outputs": [],
   "source": [
    "tree_rus = DecisionTreeClassifier()\n",
    "tree_rus.fit(X_train, np.ravel(y_train))\n",
    "tree_rus_predictions = tree_rus.predict(X_test)\n",
    "tree_rus_predict_probs = tree_rus.predict_proba(X_test)[:, 1]\n",
    "tree_FP_rate, tree_TP_rate, tree_threshold = roc_curve(y_test, tree_rus_predict_probs)"
   ]
  },
  {
   "cell_type": "markdown",
   "id": "71b3d39b",
   "metadata": {},
   "source": [
    "### Finding Ideal Number of Neighbors\n",
    "In order to get the most out of our classifier, we'll want to find the ideal amount of `n_neighbors` for our model."
   ]
  },
  {
   "cell_type": "code",
   "execution_count": 54,
   "id": "6011c22f",
   "metadata": {},
   "outputs": [],
   "source": [
    "scores = []\n",
    "best_score = 0\n",
    "best_k = 0\n",
    "for i in range(1,20):\n",
    "    knn_test = KNeighborsClassifier(n_neighbors=i)\n",
    "    knn_test.fit(X_train, np.ravel(y_train))\n",
    "    pred = knn_test.predict(X_test)\n",
    "    score = accuracy_score(y_test, pred)\n",
    "    scores.append(score)\n",
    "    if score > best_score:\n",
    "        best_score = score\n",
    "        best_k = i"
   ]
  },
  {
   "cell_type": "code",
   "execution_count": 71,
   "id": "0ee05269",
   "metadata": {},
   "outputs": [
    {
     "data": {
      "image/png": "[encoded data removed]",
      "text/plain": [
       "<Figure size 720x576 with 1 Axes>"
      ]
     },
     "metadata": {
      "needs_background": "light"
     },
     "output_type": "display_data"
    }
   ],
   "source": [
    "plt.figure(figsize=(10,8))\n",
    "ax = plt.subplot()\n",
    "plt.plot(range(1,20), scores)\n",
    "ax.set_xticks(range(1,20))\n",
    "plt.xlabel(\"K Neighbors\")\n",
    "plt.ylabel(\"Accuracy\")\n",
    "plt.title(\"Accuracy over K-Neighbors\")\n",
    "plt.show()"
   ]
  },
  {
   "cell_type": "markdown",
   "id": "416f909f",
   "metadata": {},
   "source": [
    "### K-Neighbors Classifier"
   ]
  },
  {
   "cell_type": "code",
   "execution_count": 56,
   "id": "54ab5cc7",
   "metadata": {},
   "outputs": [],
   "source": [
    "knn_rus = KNeighborsClassifier(n_neighbors=3)\n",
    "knn_rus.fit(X_train, np.ravel(y_train))\n",
    "knn_rus_predictions = knn_rus.predict(X_test)\n",
    "knn_rus_predict_probs = knn_rus.predict_proba(X_test)[:, 1]\n",
    "knn_FP_rate, knn_TP_rate, knn_threshold = roc_curve(y_test, knn_rus_predict_probs)"
   ]
  },
  {
   "cell_type": "markdown",
   "id": "7f7df9b4",
   "metadata": {},
   "source": [
    "### Random Forest Classifier"
   ]
  },
  {
   "cell_type": "code",
   "execution_count": 57,
   "id": "e688e32c",
   "metadata": {},
   "outputs": [],
   "source": [
    "forest_rus = RandomForestClassifier()\n",
    "forest_rus.fit(X_train, np.ravel(y_train))\n",
    "forest_rus_predictions = forest_rus.predict(X_test)\n",
    "forest_rus_predict_probs = forest_rus.predict_proba(X_test)[:, 1]\n",
    "forest_FP_rate, forest_TP_rate, forest_threshold = roc_curve(y_test, forest_rus_predict_probs)"
   ]
  },
  {
   "cell_type": "markdown",
   "id": "58154460",
   "metadata": {},
   "source": [
    "### Support Vector Classification"
   ]
  },
  {
   "cell_type": "code",
   "execution_count": 58,
   "id": "62dd6783",
   "metadata": {},
   "outputs": [],
   "source": [
    "svc_rus = SVC(probability=True)\n",
    "svc_rus.fit(X_train, np.ravel(y_train))\n",
    "svc_rus_predictions = svc_rus.predict(X_test)\n",
    "svc_rus_predict_probs = svc_rus.predict_proba(X_test)[:, 1]\n",
    "svc_FP_rate, svc_TP_rate, svc_threshold = roc_curve(y_test, svc_rus_predict_probs)"
   ]
  },
  {
   "cell_type": "markdown",
   "id": "68215b01",
   "metadata": {},
   "source": [
    "## Measuring Models Trained on Undersampled Data\n",
    "In this case, the data is split evenly, which means we actually can use accuracy to calculate how effective its predictions are. \n",
    "\n",
    "### Comparing Accuracy\n",
    "Overall, it looks like the Logistic Regression model and K-Nearest Neighbors classifier provide the best accuracy at 93.5%. The Random Forest Classifier is not far behind at 93.09%, however."
   ]
  },
  {
   "cell_type": "code",
   "execution_count": 59,
   "id": "03a00742",
   "metadata": {},
   "outputs": [
    {
     "name": "stdout",
     "output_type": "stream",
     "text": [
      "Logistic Regression Model accuracy: 93.50%\n",
      "Decision Tree Classifier accuracy: 88.21%\n",
      "K-Nearest Neighbors Classifier accuracy: 93.50%\n",
      "Random Forest Classifier accuracy: 93.09%\n",
      "Support Vector Classification accuracy: 91.87%\n"
     ]
    }
   ],
   "source": [
    "print(\"Logistic Regression Model accuracy: {0:.2f}%\".format(accuracy_score(y_test, lr_rus_predictions) * 100))\n",
    "print(\"Decision Tree Classifier accuracy: {0:.2f}%\".format(accuracy_score(y_test, tree_rus_predictions) * 100))\n",
    "print(\"K-Nearest Neighbors Classifier accuracy: {0:.2f}%\".format(accuracy_score(y_test, knn_rus_predictions) * 100))\n",
    "print(\"Random Forest Classifier accuracy: {0:.2f}%\".format(accuracy_score(y_test, forest_rus_predictions) * 100))\n",
    "print(\"Support Vector Classification accuracy: {0:.2f}%\".format(accuracy_score(y_test, svc_rus_predictions) * 100))"
   ]
  },
  {
   "cell_type": "markdown",
   "id": "59e744ab",
   "metadata": {},
   "source": [
    "### Plotting Receiver Operating Characteristics (ROC) Curve\n",
    "When our data is balanced, we can plot a ROC curve and then measure the area under the curve to see how accurate our model is."
   ]
  },
  {
   "cell_type": "code",
   "execution_count": 73,
   "id": "04cdfffc",
   "metadata": {},
   "outputs": [
    {
     "data": {
      "image/png": "[encoded data removed]",
      "text/plain": [
       "<Figure size 864x576 with 1 Axes>"
      ]
     },
     "metadata": {
      "needs_background": "light"
     },
     "output_type": "display_data"
    }
   ],
   "source": [
    "plt.figure(figsize=(12,8))\n",
    "plt.plot(lr_FP_rate, lr_TP_rate, label='Logistic Regression')\n",
    "plt.plot(tree_FP_rate, tree_TP_rate, label='Decision Tree')\n",
    "plt.plot(knn_FP_rate, knn_TP_rate, label='K-Neighbors Classifier')\n",
    "plt.plot(forest_FP_rate, forest_TP_rate, label='Random Forest Classifier')\n",
    "plt.plot(svc_FP_rate, svc_TP_rate, label='Support Vector Classification')\n",
    "plt.plot([0,1], ls='--')\n",
    "plt.plot([0,0], [1,0], c=\".7\"), plt.plot([1,1], c=\".7\")\n",
    "plt.xlabel(\"False Positive Rate\")\n",
    "plt.ylabel(\"True Positive Rate\")\n",
    "plt.title(\"ROC Curve for Different Classifiers (Undersampled Data)\")\n",
    "plt.legend()\n",
    "plt.show()"
   ]
  },
  {
   "cell_type": "markdown",
   "id": "e68894b3",
   "metadata": {},
   "source": [
    "### Analysis using AUROC (Area Under Receiver Operating Characteristics)\n",
    "Finally, we can calculate the area under the curve for our plotted curve, and receive an overall score for each model. Interestingly, while our Logistic Regression Model is still on top, Random Forest Classification and Support Vector Classification now beat K-Nearest Neighbor classifications under this metric."
   ]
  },
  {
   "cell_type": "code",
   "execution_count": 61,
   "id": "58b98e14",
   "metadata": {},
   "outputs": [
    {
     "name": "stdout",
     "output_type": "stream",
     "text": [
      "Logistic Regression Model AUROC score: 0.9713583200425308\n",
      "Decision Tree Classifier AUROC score: 0.8817783094098883\n",
      "K-Nearest Neighbors Classifier AUROC score: 0.9496610845295055\n",
      "Random Forest Classifier AUROC score: 0.9651116427432217\n",
      "Support Vector Classification AUROC score: 0.966241360978203\n"
     ]
    }
   ],
   "source": [
    "print(\"Logistic Regression Model AUROC score: {0}\".format(roc_auc_score(y_test, lr_rus_predict_probs)))\n",
    "print(\"Decision Tree Classifier AUROC score: {0}\".format(roc_auc_score(y_test, tree_rus_predict_probs)))\n",
    "print(\"K-Nearest Neighbors Classifier AUROC score: {0}\".format(roc_auc_score(y_test, knn_rus_predict_probs)))\n",
    "print(\"Random Forest Classifier AUROC score: {0}\".format(roc_auc_score(y_test, forest_rus_predict_probs)))\n",
    "print(\"Support Vector Classification AUROC score: {0}\".format(roc_auc_score(y_test, svc_rus_predict_probs)))"
   ]
  },
  {
   "cell_type": "markdown",
   "id": "f986fa16",
   "metadata": {},
   "source": [
    "## Oversampled Data\n",
    "\n",
    "### Random Oversampling\n",
    "Another way we can attempt to balance data is to oversample the minority class. `RandomOverSampler` will take random observations from the minority class and duplicate them until it has the same count as the majority class. We can observe that if we do this, we'll end up with a fairly large dataset. Both classes will now have 284,315 observations.\n",
    "\n",
    "\n"
   ]
  },
  {
   "cell_type": "code",
   "execution_count": 62,
   "id": "5e20ca17",
   "metadata": {},
   "outputs": [
    {
     "data": {
      "image/png": "[encoded data removed]",
      "text/plain": [
       "<Figure size 720x576 with 1 Axes>"
      ]
     },
     "metadata": {
      "needs_background": "light"
     },
     "output_type": "display_data"
    },
    {
     "name": "stdout",
     "output_type": "stream",
     "text": [
      "Counter({0: 284315, 1: 284315})\n"
     ]
    }
   ],
   "source": [
    "ros = RandomOverSampler(random_state=1)\n",
    "X_ros, y_ros = ros.fit_resample(X, y)\n",
    "ros_data = Counter(y_ros)\n",
    "plt.figure(figsize=(10,8))\n",
    "ax = plt.subplot()\n",
    "plt.bar(ros_data.keys(), ros_data.values(), color=['blue', 'red'])\n",
    "ax.set_xticks([0, 1])\n",
    "ax.set_xticklabels(['Legitimate', 'Fraudulent'])\n",
    "plt.show()\n",
    "print(ros_data)"
   ]
  },
  {
   "cell_type": "markdown",
   "id": "ccadd7f9",
   "metadata": {},
   "source": [
    "### Potential Problems\n",
    "Oversampling is not a perfect solution, either. With this dataset in particular, scaling the minority class to have the same amount of rows as the majority class means we have very specific duplicates for \"fraudulent\" observations. This increases the likelihood of overfitting. The model will train on highly specific data, learn to recognize those patterns, but if presented with a real world example of fraud it hasn't seen yet, it may fail to classify it as fraud."
   ]
  },
  {
   "cell_type": "markdown",
   "id": "5ad88e31",
   "metadata": {},
   "source": [
    "### Training on Oversampled Data\n",
    "Once more, we'll split the data into a training and testing set, then use machine learning models to make predictions. Here we'll use Logistic Regression and a Decision Tree. Due to the size of the data, many models will take a long time to train, without necessarily providing a significant increase in accuracy."
   ]
  },
  {
   "cell_type": "markdown",
   "id": "2724183d",
   "metadata": {},
   "source": [
    "### Splitting the Data"
   ]
  },
  {
   "cell_type": "code",
   "execution_count": 63,
   "id": "091b0124",
   "metadata": {},
   "outputs": [],
   "source": [
    "X_train, X_test, y_train, y_test = train_test_split(X_ros, y_ros, random_state=1, test_size=0.15)"
   ]
  },
  {
   "cell_type": "markdown",
   "id": "00154c1a",
   "metadata": {},
   "source": [
    "### Logistic Regression"
   ]
  },
  {
   "cell_type": "code",
   "execution_count": 64,
   "id": "b4d35bc0",
   "metadata": {},
   "outputs": [],
   "source": [
    "lr_ros = LogisticRegression()\n",
    "lr_ros.fit(X_train, y_train)\n",
    "lr_ros_predictions = lr_ros.predict(X_test)\n",
    "lr_ros_predict_probs = lr_ros.predict_proba(X_test)[:, 1]\n",
    "lr_ros_FP_rate, lr_ros_TP_rate, lr_ros_threshold = roc_curve(y_test, lr_ros_predict_probs)"
   ]
  },
  {
   "cell_type": "markdown",
   "id": "3b93203d",
   "metadata": {},
   "source": [
    "### Decision Tree Classifier"
   ]
  },
  {
   "cell_type": "code",
   "execution_count": 65,
   "id": "0985c5e7",
   "metadata": {},
   "outputs": [],
   "source": [
    "tree_ros = DecisionTreeClassifier()\n",
    "tree = tree_ros.fit(X_train, y_train)\n",
    "tree_ros_predictions = tree_ros.predict(X_test)\n",
    "tree_ros_predict_probs = tree_ros.predict_proba(X_test)[:, 1]\n",
    "tree_ros_FP_rate, tree_ros_TP_rate, tree_ros_threshold = roc_curve(y_test, tree_ros_predict_probs)"
   ]
  },
  {
   "cell_type": "markdown",
   "id": "7c2e0aa8",
   "metadata": {},
   "source": [
    "## Measuring Models Trained on Oversampled Data\n",
    "As we have an equal number of observations for both classes, we can once again use accuracy to measure how effective the model's predictions are."
   ]
  },
  {
   "cell_type": "markdown",
   "id": "4c762390",
   "metadata": {},
   "source": [
    "### Comparing Accuracy\n"
   ]
  },
  {
   "cell_type": "code",
   "execution_count": 66,
   "id": "5dcfe6a0",
   "metadata": {},
   "outputs": [
    {
     "name": "stdout",
     "output_type": "stream",
     "text": [
      "Logistic Regression Model accuracy: 94.83%\n",
      "Decision Tree Classifier accuracy: 99.69%\n"
     ]
    }
   ],
   "source": [
    "print(\"Logistic Regression Model accuracy: {0:.2f}%\".format(accuracy_score(y_test, lr_ros_predictions) * 100))\n",
    "print(\"Decision Tree Classifier accuracy: {0:.2f}%\".format(accuracy_score(y_test, tree_ros_predictions) * 100))"
   ]
  },
  {
   "cell_type": "markdown",
   "id": "68017933",
   "metadata": {},
   "source": [
    "### Plotting Receiver Operating Characteristics (ROC) Curve"
   ]
  },
  {
   "cell_type": "code",
   "execution_count": 74,
   "id": "def393ce",
   "metadata": {},
   "outputs": [
    {
     "data": {
      "image/png": "[encoded data removed]",
      "text/plain": [
       "<Figure size 864x576 with 1 Axes>"
      ]
     },
     "metadata": {
      "needs_background": "light"
     },
     "output_type": "display_data"
    }
   ],
   "source": [
    "plt.figure(figsize=(12,8))\n",
    "plt.plot(lr_ros_FP_rate, lr_ros_TP_rate, label='Logistic Regression')\n",
    "plt.plot(tree_ros_FP_rate, tree_ros_TP_rate, label='Decision Tree')\n",
    "plt.plot([0,1], ls='--')\n",
    "plt.plot([0,0], [1,0], c=\".7\", alpha=0.6), plt.plot([1,1], c=\".7\", alpha=0.6)\n",
    "plt.xlabel(\"False Positive Rate\")\n",
    "plt.ylabel(\"True Positive Rate\")\n",
    "plt.title(\"ROC Curve for Different Classifiers (Oversampled Data)\")\n",
    "plt.legend()\n",
    "plt.show()"
   ]
  },
  {
   "cell_type": "markdown",
   "id": "07e882d3",
   "metadata": {},
   "source": [
    "### Analysis using AUROC (Area Under Receiver Operating Characteristics)"
   ]
  },
  {
   "cell_type": "code",
   "execution_count": 68,
   "id": "4c66cef1",
   "metadata": {},
   "outputs": [
    {
     "name": "stdout",
     "output_type": "stream",
     "text": [
      "Logistic Regression Model AUROC score: 0.9870100964908856\n",
      "Decision Tree Classifier AUROC score: 0.9995153393392109\n"
     ]
    }
   ],
   "source": [
    "print(\"Logistic Regression Model AUROC score: {0}\".format(roc_auc_score(y_test, lr_ros_predict_probs)))\n",
    "print(\"Decision Tree Classifier AUROC score: {0}\".format(roc_auc_score(y_test, tree_ros_predict_probs)))"
   ]
  },
  {
   "cell_type": "markdown",
   "id": "7acbfae3",
   "metadata": {},
   "source": [
    "### Overfitting?\n",
    "One potential problem with oversampling that was mentioned earlier is overfitting. Generally, predictions are tested against a validation set, but it's important to remember that our validation set in this case is likely to contain many duplicates of the same cases. It's important to keep in mind as we look at these scores."
   ]
  },
  {
   "cell_type": "markdown",
   "id": "15edee67",
   "metadata": {},
   "source": [
    "# Using A Combinationg of Sampling Techniques\n",
    "For our final line of predictions, we'll use a combination of sampling techniques. In this section we will first oversample using SMOTE (Synthetic Minority Oversampling Technique), then undersample our dataset. This way, we'll increase the amount of observations in the minority class, then bring the majority class down to meet it. This will have the benefits of undersampling, with the benefits of oversampling."
   ]
  },
  {
   "cell_type": "markdown",
   "id": "9468c9d0",
   "metadata": {},
   "source": [
    "### SMOTE (Synthetic Minority Oversampling TEchnique)\n",
    "Our previous attempt at oversampling created exact duplicates of our observations. The problem with doing that is that our model learned to detect very specific cases of fraudulent transactions. "
   ]
  },
  {
   "cell_type": "code",
   "execution_count": null,
   "id": "b737f168",
   "metadata": {},
   "outputs": [],
   "source": []
  }
 ],
 "metadata": {
  "kernelspec": {
   "display_name": "Python 3",
   "language": "python",
   "name": "python3"
  },
  "language_info": {
   "codemirror_mode": {
    "name": "ipython",
    "version": 3
   },
   "file_extension": ".py",
   "mimetype": "text/x-python",
   "name": "python",
   "nbconvert_exporter": "python",
   "pygments_lexer": "ipython3",
   "version": "3.8.8"
  }
 },
 "nbformat": 4,
 "nbformat_minor": 5
}
