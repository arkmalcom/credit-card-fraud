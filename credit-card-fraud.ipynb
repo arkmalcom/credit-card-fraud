{
 "cells": [
  {
   "cell_type": "markdown",
   "id": "756ac9bb",
   "metadata": {},
   "source": [
    "# Introduction\n",
    "The dataset included in this project contains information about credit card transactions and their labels as either legitimate or fraudulent transactions. As the vast majority of transactions carried out are legitimate, this is a highly imbalanced dataset. Using different techniques such as undersampling, oversampling, and SMOTE, we will attempt to balance the data and train machine learning models to correctly predict whether a transaction is fraudulent or not.\n",
    "\n",
    "## Dataset Contents\n",
    "The dataset contains transactions made by credit cards in September 2013 by European cardholders over a period of two days. \n",
    "\n",
    "\n",
    "## Importing the Necessary Libraries\n",
    "Here we'll begin by importing some of the libraries we'll use in the project.\n"
   ]
  },
  {
   "cell_type": "code",
   "execution_count": 183,
   "id": "567e5b94",
   "metadata": {},
   "outputs": [],
   "source": [
    "## libraries for loading and exploring data\n",
    "import pandas as pd\n",
    "import numpy as np\n",
    "import seaborn as sns\n",
    "import matplotlib.pyplot as plt\n",
    "\n",
    "## splitting and balancing data\n",
    "from sklearn.model_selection import train_test_split\n",
    "from imblearn.under_sampling import RandomUnderSampler\n",
    "\n",
    "## ML models\n",
    "from sklearn.linear_model import LogisticRegression\n",
    "from sklearn.tree import DecisionTreeClassifier\n",
    "from sklearn.neighbors import KNeighborsClassifier\n",
    "from sklearn.ensemble import RandomForestClassifier\n",
    "\n",
    "## metrics for evaluating models\n",
    "from sklearn.metrics import accuracy_score\n",
    "from sklearn.metrics import roc_auc_score, roc_curve\n",
    "from sklearn.metrics import average_precision_score, precision_recall_curve, auc\n",
    "\n",
    "## misc\n",
    "from collections import Counter"
   ]
  },
  {
   "cell_type": "markdown",
   "id": "b42d4800",
   "metadata": {},
   "source": [
    "## Loading the Data\n",
    "Next, we'll load the data, found in `creditcard.csv` and print the first few rows to see what we're working with."
   ]
  },
  {
   "cell_type": "code",
   "execution_count": 2,
   "id": "d31f6662",
   "metadata": {},
   "outputs": [
    {
     "data": {
      "text/html": [
       "<div>\n",
       "<style scoped>\n",
       "    .dataframe tbody tr th:only-of-type {\n",
       "        vertical-align: middle;\n",
       "    }\n",
       "\n",
       "    .dataframe tbody tr th {\n",
       "        vertical-align: top;\n",
       "    }\n",
       "\n",
       "    .dataframe thead th {\n",
       "        text-align: right;\n",
       "    }\n",
       "</style>\n",
       "<table border=\"1\" class=\"dataframe\">\n",
       "  <thead>\n",
       "    <tr style=\"text-align: right;\">\n",
       "      <th></th>\n",
       "      <th>Time</th>\n",
       "      <th>V1</th>\n",
       "      <th>V2</th>\n",
       "      <th>V3</th>\n",
       "      <th>V4</th>\n",
       "      <th>V5</th>\n",
       "      <th>V6</th>\n",
       "      <th>V7</th>\n",
       "      <th>V8</th>\n",
       "      <th>V9</th>\n",
       "      <th>...</th>\n",
       "      <th>V21</th>\n",
       "      <th>V22</th>\n",
       "      <th>V23</th>\n",
       "      <th>V24</th>\n",
       "      <th>V25</th>\n",
       "      <th>V26</th>\n",
       "      <th>V27</th>\n",
       "      <th>V28</th>\n",
       "      <th>Amount</th>\n",
       "      <th>Class</th>\n",
       "    </tr>\n",
       "  </thead>\n",
       "  <tbody>\n",
       "    <tr>\n",
       "      <th>0</th>\n",
       "      <td>0.0</td>\n",
       "      <td>-1.359807</td>\n",
       "      <td>-0.072781</td>\n",
       "      <td>2.536347</td>\n",
       "      <td>1.378155</td>\n",
       "      <td>-0.338321</td>\n",
       "      <td>0.462388</td>\n",
       "      <td>0.239599</td>\n",
       "      <td>0.098698</td>\n",
       "      <td>0.363787</td>\n",
       "      <td>...</td>\n",
       "      <td>-0.018307</td>\n",
       "      <td>0.277838</td>\n",
       "      <td>-0.110474</td>\n",
       "      <td>0.066928</td>\n",
       "      <td>0.128539</td>\n",
       "      <td>-0.189115</td>\n",
       "      <td>0.133558</td>\n",
       "      <td>-0.021053</td>\n",
       "      <td>149.62</td>\n",
       "      <td>0</td>\n",
       "    </tr>\n",
       "    <tr>\n",
       "      <th>1</th>\n",
       "      <td>0.0</td>\n",
       "      <td>1.191857</td>\n",
       "      <td>0.266151</td>\n",
       "      <td>0.166480</td>\n",
       "      <td>0.448154</td>\n",
       "      <td>0.060018</td>\n",
       "      <td>-0.082361</td>\n",
       "      <td>-0.078803</td>\n",
       "      <td>0.085102</td>\n",
       "      <td>-0.255425</td>\n",
       "      <td>...</td>\n",
       "      <td>-0.225775</td>\n",
       "      <td>-0.638672</td>\n",
       "      <td>0.101288</td>\n",
       "      <td>-0.339846</td>\n",
       "      <td>0.167170</td>\n",
       "      <td>0.125895</td>\n",
       "      <td>-0.008983</td>\n",
       "      <td>0.014724</td>\n",
       "      <td>2.69</td>\n",
       "      <td>0</td>\n",
       "    </tr>\n",
       "    <tr>\n",
       "      <th>2</th>\n",
       "      <td>1.0</td>\n",
       "      <td>-1.358354</td>\n",
       "      <td>-1.340163</td>\n",
       "      <td>1.773209</td>\n",
       "      <td>0.379780</td>\n",
       "      <td>-0.503198</td>\n",
       "      <td>1.800499</td>\n",
       "      <td>0.791461</td>\n",
       "      <td>0.247676</td>\n",
       "      <td>-1.514654</td>\n",
       "      <td>...</td>\n",
       "      <td>0.247998</td>\n",
       "      <td>0.771679</td>\n",
       "      <td>0.909412</td>\n",
       "      <td>-0.689281</td>\n",
       "      <td>-0.327642</td>\n",
       "      <td>-0.139097</td>\n",
       "      <td>-0.055353</td>\n",
       "      <td>-0.059752</td>\n",
       "      <td>378.66</td>\n",
       "      <td>0</td>\n",
       "    </tr>\n",
       "    <tr>\n",
       "      <th>3</th>\n",
       "      <td>1.0</td>\n",
       "      <td>-0.966272</td>\n",
       "      <td>-0.185226</td>\n",
       "      <td>1.792993</td>\n",
       "      <td>-0.863291</td>\n",
       "      <td>-0.010309</td>\n",
       "      <td>1.247203</td>\n",
       "      <td>0.237609</td>\n",
       "      <td>0.377436</td>\n",
       "      <td>-1.387024</td>\n",
       "      <td>...</td>\n",
       "      <td>-0.108300</td>\n",
       "      <td>0.005274</td>\n",
       "      <td>-0.190321</td>\n",
       "      <td>-1.175575</td>\n",
       "      <td>0.647376</td>\n",
       "      <td>-0.221929</td>\n",
       "      <td>0.062723</td>\n",
       "      <td>0.061458</td>\n",
       "      <td>123.50</td>\n",
       "      <td>0</td>\n",
       "    </tr>\n",
       "    <tr>\n",
       "      <th>4</th>\n",
       "      <td>2.0</td>\n",
       "      <td>-1.158233</td>\n",
       "      <td>0.877737</td>\n",
       "      <td>1.548718</td>\n",
       "      <td>0.403034</td>\n",
       "      <td>-0.407193</td>\n",
       "      <td>0.095921</td>\n",
       "      <td>0.592941</td>\n",
       "      <td>-0.270533</td>\n",
       "      <td>0.817739</td>\n",
       "      <td>...</td>\n",
       "      <td>-0.009431</td>\n",
       "      <td>0.798278</td>\n",
       "      <td>-0.137458</td>\n",
       "      <td>0.141267</td>\n",
       "      <td>-0.206010</td>\n",
       "      <td>0.502292</td>\n",
       "      <td>0.219422</td>\n",
       "      <td>0.215153</td>\n",
       "      <td>69.99</td>\n",
       "      <td>0</td>\n",
       "    </tr>\n",
       "  </tbody>\n",
       "</table>\n",
       "<p>5 rows × 31 columns</p>\n",
       "</div>"
      ],
      "text/plain": [
       "   Time        V1        V2        V3        V4        V5        V6        V7  \\\n",
       "0   0.0 -1.359807 -0.072781  2.536347  1.378155 -0.338321  0.462388  0.239599   \n",
       "1   0.0  1.191857  0.266151  0.166480  0.448154  0.060018 -0.082361 -0.078803   \n",
       "2   1.0 -1.358354 -1.340163  1.773209  0.379780 -0.503198  1.800499  0.791461   \n",
       "3   1.0 -0.966272 -0.185226  1.792993 -0.863291 -0.010309  1.247203  0.237609   \n",
       "4   2.0 -1.158233  0.877737  1.548718  0.403034 -0.407193  0.095921  0.592941   \n",
       "\n",
       "         V8        V9  ...       V21       V22       V23       V24       V25  \\\n",
       "0  0.098698  0.363787  ... -0.018307  0.277838 -0.110474  0.066928  0.128539   \n",
       "1  0.085102 -0.255425  ... -0.225775 -0.638672  0.101288 -0.339846  0.167170   \n",
       "2  0.247676 -1.514654  ...  0.247998  0.771679  0.909412 -0.689281 -0.327642   \n",
       "3  0.377436 -1.387024  ... -0.108300  0.005274 -0.190321 -1.175575  0.647376   \n",
       "4 -0.270533  0.817739  ... -0.009431  0.798278 -0.137458  0.141267 -0.206010   \n",
       "\n",
       "        V26       V27       V28  Amount  Class  \n",
       "0 -0.189115  0.133558 -0.021053  149.62      0  \n",
       "1  0.125895 -0.008983  0.014724    2.69      0  \n",
       "2 -0.139097 -0.055353 -0.059752  378.66      0  \n",
       "3 -0.221929  0.062723  0.061458  123.50      0  \n",
       "4  0.502292  0.219422  0.215153   69.99      0  \n",
       "\n",
       "[5 rows x 31 columns]"
      ]
     },
     "execution_count": 2,
     "metadata": {},
     "output_type": "execute_result"
    }
   ],
   "source": [
    "df = pd.read_csv(\"creditcard.csv\")\n",
    "df.head()"
   ]
  },
  {
   "cell_type": "markdown",
   "id": "6344c99a",
   "metadata": {},
   "source": [
    "## Exploring the Data\n",
    "Initial exploration of the data shows a few things. We have 31 columns:\n",
    "- Time (in seconds, elapsed since first transaction in dataset)\n",
    "- V1-V28 Primary components which have been transformed into numerical data. For reasons of confidentiality, the true labels of these features are unknown.\n",
    "- Amount (how much was spent in that transaction)\n",
    "- Class (0 for legitimate transaction, 1 for fraudulent. From this point on, 0 will be referred to as **legitimate** and 1 as **fraudulent**) \n",
    "\n",
    "## Visualizing the Data\n",
    "As previously mentioned, this is a highly imbalanced dataset. The amount of legitimate transactions are significantly higher than those of fraudulent charges. "
   ]
  },
  {
   "cell_type": "code",
   "execution_count": 7,
   "id": "49a32aff",
   "metadata": {},
   "outputs": [
    {
     "data": {
      "image/png": "[encoded data removed]",
      "text/plain": [
       "<Figure size 864x576 with 1 Axes>"
      ]
     },
     "metadata": {
      "needs_background": "light"
     },
     "output_type": "display_data"
    }
   ],
   "source": [
    "plt.figure(figsize=(12,8))\n",
    "ax = plt.subplot()\n",
    "sns.countplot(x='Class', data=df)\n",
    "ax.set_xticklabels(['Legitimate', 'Fraudulent'])\n",
    "plt.ylabel(\"Count\")\n",
    "plt.title(\"Legitimate vs Fraudulent Charges\")\n",
    "plt.show()"
   ]
  },
  {
   "cell_type": "code",
   "execution_count": 9,
   "id": "ac7e8049",
   "metadata": {},
   "outputs": [
    {
     "data": {
      "text/plain": [
       "0    0.998273\n",
       "1    0.001727\n",
       "Name: Class, dtype: float64"
      ]
     },
     "execution_count": 9,
     "metadata": {},
     "output_type": "execute_result"
    }
   ],
   "source": [
    "df['Class'].value_counts(normalize=True)"
   ]
  },
  {
   "cell_type": "markdown",
   "id": "a99854dd",
   "metadata": {},
   "source": [
    "The fraudulent class is barely visible on our graph, and it's clear why if we see the normalized value counts for this dataset. Legitimate charges compose 99.82% of the data in this dataset, while fraudulent charges make up only 0.17% of this dataset."
   ]
  },
  {
   "cell_type": "markdown",
   "id": "29787223",
   "metadata": {},
   "source": [
    "## Potential Problems\n",
    "Up to this point, it's been made clear that this dataset is imbalanced, but what exactly does that mean and how does it affect a machine learning model? Let's train a model without altering the data in any way to see what happens. Let's split our data into a training set and testing set as it is, then train several machine learning models on it.\n",
    "\n",
    "### Splitting the Data (Imbalanced)"
   ]
  },
  {
   "cell_type": "code",
   "execution_count": null,
   "id": "acb44e21",
   "metadata": {},
   "outputs": [],
   "source": [
    "X, y = df.iloc[:, 1:-2].values, df.iloc[:, -1:].values\n",
    "X_train, X_test, y_train, y_test = train_test_split(X, y, random_state=100)"
   ]
  },
  {
   "cell_type": "markdown",
   "id": "a147a413",
   "metadata": {},
   "source": [
    "### Logistic Regression (Imbalanced)"
   ]
  },
  {
   "cell_type": "code",
   "execution_count": 199,
   "id": "8eec941a",
   "metadata": {},
   "outputs": [
    {
     "name": "stdout",
     "output_type": "stream",
     "text": [
      "0.9990449706468919\n"
     ]
    }
   ],
   "source": [
    "lr_imb = LogisticRegression()\n",
    "lr_imb.fit(X_train, np.ravel(y_train))\n",
    "lr_imb_predict = lr_imb.predict(X_test)\n",
    "print(accuracy_score(y_test, lr_imb_predict))"
   ]
  },
  {
   "cell_type": "markdown",
   "id": "9362c994",
   "metadata": {},
   "source": [
    "### Decision Tree Classifier (Imbalanced)"
   ]
  },
  {
   "cell_type": "code",
   "execution_count": 202,
   "id": "1ac9ae17",
   "metadata": {},
   "outputs": [
    {
     "name": "stdout",
     "output_type": "stream",
     "text": [
      "0.9990449706468919\n"
     ]
    }
   ],
   "source": [
    "tree_imb = DecisionTreeClassifier()\n",
    "tree_imb.fit(X_train, np.ravel(y_train))\n",
    "tree_imb_predict = lr_imb.predict(X_test)\n",
    "print(accuracy_score(y_test, tree_imb_predict))"
   ]
  },
  {
   "cell_type": "markdown",
   "id": "64fddc23",
   "metadata": {},
   "source": [
    "Amazing! Our models all have greater than 99% accuracy!\n",
    "\n",
    "Machine learning models are most commonly scored by measuring accuracy. This is the formula used to measure accuracy:\n",
    "\n",
    "<img src=\"accuracy.png\" width=\"500\" height=\"56\" />\n",
    "\n",
    "The problem with this method is that it overvalues correct predictions when the dataset is imbalanced. Consider assigning this same task to a person. After seeing maybe a hundred rows with no fraudulent charges, they may decide that the smart way to classify data is to simply guess \"legitimate\" every single time. At the end of the day, they may be wrong once or twice, but they'll be correct 99% of the time.\n",
    "\n",
    "The solution to this is to either balance the data or more heavily penalize the ML model when it fails to detect a fraudulent case. In other words, find a way to give equal weight to both detections, so the model will not be incentivized to simply guess one class over and over. We can also evaluate our ML models using different metrics, such as precision, recall, or F1-score."
   ]
  },
  {
   "cell_type": "markdown",
   "id": "43b8529a",
   "metadata": {},
   "source": [
    "## Potential Solutions\n",
    "\n",
    "### Measuring Using Precision-Recall Curve\n",
    "As mentioned previously, we can either balance the data in some way, or we can try to measure our model on a different metric. One way to deal with this data imbalance using the model we've already trained is to calculate the **Area Under Precision-Recall Curve(AUPRC)**. The `auc()` function will let us calculate the area under the curve, while `precision_recall_curve()` will let us create the curve based on our predictions. \n",
    "\n",
    "Assuming the model scores highly using precision and recall, even though our data is imbalanced, we could say that it's accurate at predicting fraud."
   ]
  },
  {
   "cell_type": "code",
   "execution_count": 200,
   "id": "61db492a",
   "metadata": {},
   "outputs": [
    {
     "data": {
      "image/png": "[encoded data removed]",
      "text/plain": [
       "<Figure size 864x576 with 1 Axes>"
      ]
     },
     "metadata": {
      "needs_background": "light"
     },
     "output_type": "display_data"
    },
    {
     "name": "stdout",
     "output_type": "stream",
     "text": [
      "0.6707497818825712\n"
     ]
    }
   ],
   "source": [
    "lr_imb_probs = lr_test.predict_proba(X_test)[:, 1]\n",
    "lr_imb_prec, lr_imb_recall, lr_imb_threshold = precision_recall_curve(y_test, lr_imb_probs)\n",
    "plt.figure(figsize=(12,8))\n",
    "plt.plot(lr_imb_recall, lr_imb_prec, label='Logistic Regression')\n",
    "plt.xlabel(\"Recall\")\n",
    "plt.ylabel(\"Precision\")\n",
    "plt.title(\"Precision-Recall Curve\")\n",
    "plt.show()\n",
    "print(auc(lr_imb_recall, lr_imb_prec))"
   ]
  },
  {
   "cell_type": "markdown",
   "id": "b2d4b624",
   "metadata": {},
   "source": [
    "### Analysis Using AUPRC\n",
    "Unfortunately, the area under the curve was 0.67, which is not very good. The model, while better than a random classifier, makes enough mistakes that it shouldn't be trusted to predict fraud accurately. "
   ]
  },
  {
   "cell_type": "markdown",
   "id": "b41a7187",
   "metadata": {},
   "source": [
    "### Undersampling\n",
    "Undersampling allows us to set the majority class equal to the minority class. That means if we have 400 rows that represent fraudulent data, instead of training our model on 20,000+ rows of legitimate transactions and only 400 rows of fraudulent transactions as we did above, we'll undersample our legitimate class to just include 400 rows.\n",
    "\n",
    "In our particular example, we're using `RandomUnderSampler` to do this. Both our classes will now have 492 rows of data that we'll train our ML model on."
   ]
  },
  {
   "cell_type": "code",
   "execution_count": 91,
   "id": "82464cf0",
   "metadata": {},
   "outputs": [
    {
     "data": {
      "image/png": "[encoded data removed]",
      "text/plain": [
       "<Figure size 720x576 with 1 Axes>"
      ]
     },
     "metadata": {
      "needs_background": "light"
     },
     "output_type": "display_data"
    },
    {
     "name": "stdout",
     "output_type": "stream",
     "text": [
      "Counter({0: 492, 1: 492})\n"
     ]
    }
   ],
   "source": [
    "rus = RandomUnderSampler(random_state=1, replacement=True)\n",
    "X_rus, y_rus = rus.fit_resample(X,y)\n",
    "rus_data = Counter(y_rus)\n",
    "plt.figure(figsize=(10,8))\n",
    "ax = plt.subplot()\n",
    "plt.bar(rus_data.keys(), rus_data.values(), color=['blue', 'red'])\n",
    "ax.set_xticks([0, 1])\n",
    "ax.set_xticklabels(['Legitimate', 'Fraudulent'])\n",
    "plt.show()\n",
    "print(rus_data)"
   ]
  },
  {
   "cell_type": "markdown",
   "id": "62a2c8b6",
   "metadata": {},
   "source": [
    "### Training on Undersampled Data\n",
    "Our next step will be to split the data once again and train some ML models, then evaluate them. \n",
    "\n",
    "### Splitting the Data (Undersampled)"
   ]
  },
  {
   "cell_type": "code",
   "execution_count": 92,
   "id": "dcaad34f",
   "metadata": {},
   "outputs": [],
   "source": [
    "X_train, X_test, y_train, y_test = train_test_split(X_rus, y_rus)"
   ]
  },
  {
   "cell_type": "markdown",
   "id": "a3e43f84",
   "metadata": {},
   "source": [
    "### Logistic Regression (Undersampled)"
   ]
  },
  {
   "cell_type": "code",
   "execution_count": 186,
   "id": "a1f6e52b",
   "metadata": {},
   "outputs": [
    {
     "name": "stdout",
     "output_type": "stream",
     "text": [
      "0.9748099173553719\n"
     ]
    }
   ],
   "source": [
    "lr_rus = LogisticRegression()\n",
    "lr_rus.fit(X_train, np.ravel(y_train))\n",
    "lr_rus_predict = lr_rus.predict_proba(X_test)[:, 1]\n",
    "lr_FP_rate, lr_TP_rate, lr_threshold = roc_curve(y_test, lr_rus_predict)\n",
    "print(roc_auc_score(y_test, lr_rus_predict))"
   ]
  },
  {
   "cell_type": "markdown",
   "id": "2bc65bd3",
   "metadata": {},
   "source": [
    "### Decision Tree Classifier (Undersampled)"
   ]
  },
  {
   "cell_type": "code",
   "execution_count": 159,
   "id": "94bddc87",
   "metadata": {},
   "outputs": [
    {
     "name": "stdout",
     "output_type": "stream",
     "text": [
      "0.8892041255123296\n",
      "0.9226776859504133\n"
     ]
    }
   ],
   "source": [
    "tree_rus = DecisionTreeClassifier()\n",
    "tree_rus.fit(X_train, np.ravel(y_train))\n",
    "tree_rus_predict = tree_rus.predict(X_test)\n",
    "print(average_precision_score(y_test, tree_rus_predict))\n",
    "print(roc_auc_score(y_test, tree_rus_predict))\n",
    "FP_rate_tree, TP_rate_tree, threshold_tree = roc_curve(y_test, tree_rus_predict)"
   ]
  },
  {
   "cell_type": "markdown",
   "id": "9f647cef",
   "metadata": {},
   "source": [
    "### Finding Ideal Number of Neighbors\n",
    "In order to get the most out of our classifier, we'll want to find the ideal amount of `n_neighbors` for our model."
   ]
  },
  {
   "cell_type": "code",
   "execution_count": 178,
   "id": "115f4b65",
   "metadata": {},
   "outputs": [],
   "source": [
    "scores = []\n",
    "best_score = 0\n",
    "best_k = 0\n",
    "for i in range(1,20):\n",
    "    knn_test = KNeighborsClassifier(n_neighbors=i)\n",
    "    knn_test.fit(X_train, np.ravel(y_train))\n",
    "    pred = knn_test.predict(X_test)\n",
    "    score = average_precision_score(y_test, pred)\n",
    "    scores.append(score)\n",
    "    if score > best_score:\n",
    "        best_score = score\n",
    "        best_k = i"
   ]
  },
  {
   "cell_type": "code",
   "execution_count": 157,
   "id": "901c5168",
   "metadata": {},
   "outputs": [
    {
     "data": {
      "image/png": "[encoded data removed]",
      "text/plain": [
       "<Figure size 720x576 with 1 Axes>"
      ]
     },
     "metadata": {
      "needs_background": "light"
     },
     "output_type": "display_data"
    }
   ],
   "source": [
    "plt.figure(figsize=(10,8))\n",
    "ax = plt.subplot()\n",
    "plt.plot(range(1,20), scores)\n",
    "ax.set_xticks(range(1,20))\n",
    "plt.show()"
   ]
  },
  {
   "cell_type": "markdown",
   "id": "719d6234",
   "metadata": {},
   "source": [
    "### K-Neighbors Classifier (Undersampled)"
   ]
  },
  {
   "cell_type": "code",
   "execution_count": 177,
   "id": "d705f8e9",
   "metadata": {},
   "outputs": [
    {
     "name": "stdout",
     "output_type": "stream",
     "text": [
      "0.9757575777314522\n",
      "0.9842876483180638\n"
     ]
    }
   ],
   "source": [
    "knn_rus = KNeighborsClassifier(n_neighbors=4)\n",
    "knn_rus.fit(X_train, np.ravel(y_train))\n",
    "knn_rus_predict = knn_rus.predict_proba(X_test)[:, 1]\n",
    "print(average_precision_score(y_test, knn_rus_predict))\n",
    "knn_prec, knn_recall, knn_threshold = precision_recall_curve(y_test, knn_rus_predict)\n",
    "print(auc(knn_recall, knn_prec))"
   ]
  },
  {
   "cell_type": "markdown",
   "id": "7fcd1dac",
   "metadata": {},
   "source": [
    "### Random Forest Classifier (Undersampler)"
   ]
  },
  {
   "cell_type": "code",
   "execution_count": null,
   "id": "a6c06288",
   "metadata": {},
   "outputs": [],
   "source": []
  },
  {
   "cell_type": "code",
   "execution_count": 182,
   "id": "97337f25",
   "metadata": {},
   "outputs": [
    {
     "data": {
      "image/png": "[encoded data removed]",
      "text/plain": [
       "<Figure size 864x576 with 1 Axes>"
      ]
     },
     "metadata": {
      "needs_background": "light"
     },
     "output_type": "display_data"
    }
   ],
   "source": [
    "plt.figure(figsize=(12,8))\n",
    "plt.plot(FP_rate_lr, TP_rate_lr, label='Logistic Regression')\n",
    "plt.plot(FP_rate_tree, TP_rate_tree, label='Decision Tree')\n",
    "plt.plot(FP_rate_knn, TP_rate_knn, label='K-Neighbors Classifier')\n",
    "plt.plot([0,1], ls='--')\n",
    "plt.plot([0,0], [1,0], c=\".7\"), plt.plot([1,1], c=\".7\")\n",
    "plt.xlabel(\"False Positive Rate\")\n",
    "plt.ylabel(\"True Positive Rate\")\n",
    "plt.legend()\n",
    "plt.show()"
   ]
  },
  {
   "cell_type": "code",
   "execution_count": null,
   "id": "460b91a8",
   "metadata": {},
   "outputs": [],
   "source": []
  }
 ],
 "metadata": {
  "kernelspec": {
   "display_name": "Python 3",
   "language": "python",
   "name": "python3"
  },
  "language_info": {
   "codemirror_mode": {
    "name": "ipython",
    "version": 3
   },
   "file_extension": ".py",
   "mimetype": "text/x-python",
   "name": "python",
   "nbconvert_exporter": "python",
   "pygments_lexer": "ipython3",
   "version": "3.8.8"
  }
 },
 "nbformat": 4,
 "nbformat_minor": 5
}
